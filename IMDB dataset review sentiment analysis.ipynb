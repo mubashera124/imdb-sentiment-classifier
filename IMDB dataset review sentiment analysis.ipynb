{
 "cells": [
  {
   "cell_type": "code",
   "execution_count": 1,
   "id": "2906e584",
   "metadata": {},
   "outputs": [],
   "source": [
    "# Importing required libraries\n",
    "import pandas as pd\n",
    "import re\n",
    "import string\n",
    "import swifter\n",
    "import nltk\n",
    "from nltk.corpus import stopwords\n",
    "from nltk.stem import WordNetLemmatizer\n",
    "\n",
    "from sklearn.feature_extraction.text import TfidfVectorizer\n",
    "from sklearn.model_selection import train_test_split\n",
    "from sklearn.linear_model import LogisticRegression\n",
    "from sklearn.metrics import classification_report,accuracy_score\n",
    "from sklearn.naive_bayes import MultinomialNB\n",
    "\n",
    "# Download necessary NLTK resources\n",
    "# nltk.download('stopwords')\n",
    "# nltk.download('wordnet')"
   ]
  },
  {
   "cell_type": "code",
   "execution_count": 2,
   "id": "cc0120ad",
   "metadata": {},
   "outputs": [],
   "source": [
    "#Loading IMDD dataset\n",
    "df = pd.read_csv('IMDB Dataset.csv')"
   ]
  },
  {
   "cell_type": "code",
   "execution_count": 3,
   "id": "2084cd5b",
   "metadata": {},
   "outputs": [
    {
     "data": {
      "text/html": [
       "<div>\n",
       "<style scoped>\n",
       "    .dataframe tbody tr th:only-of-type {\n",
       "        vertical-align: middle;\n",
       "    }\n",
       "\n",
       "    .dataframe tbody tr th {\n",
       "        vertical-align: top;\n",
       "    }\n",
       "\n",
       "    .dataframe thead th {\n",
       "        text-align: right;\n",
       "    }\n",
       "</style>\n",
       "<table border=\"1\" class=\"dataframe\">\n",
       "  <thead>\n",
       "    <tr style=\"text-align: right;\">\n",
       "      <th></th>\n",
       "      <th>review</th>\n",
       "      <th>sentiment</th>\n",
       "    </tr>\n",
       "  </thead>\n",
       "  <tbody>\n",
       "    <tr>\n",
       "      <th>0</th>\n",
       "      <td>One of the other reviewers has mentioned that ...</td>\n",
       "      <td>positive</td>\n",
       "    </tr>\n",
       "    <tr>\n",
       "      <th>1</th>\n",
       "      <td>A wonderful little production. &lt;br /&gt;&lt;br /&gt;The...</td>\n",
       "      <td>positive</td>\n",
       "    </tr>\n",
       "    <tr>\n",
       "      <th>2</th>\n",
       "      <td>I thought this was a wonderful way to spend ti...</td>\n",
       "      <td>positive</td>\n",
       "    </tr>\n",
       "    <tr>\n",
       "      <th>3</th>\n",
       "      <td>Basically there's a family where a little boy ...</td>\n",
       "      <td>negative</td>\n",
       "    </tr>\n",
       "    <tr>\n",
       "      <th>4</th>\n",
       "      <td>Petter Mattei's \"Love in the Time of Money\" is...</td>\n",
       "      <td>positive</td>\n",
       "    </tr>\n",
       "  </tbody>\n",
       "</table>\n",
       "</div>"
      ],
      "text/plain": [
       "                                              review sentiment\n",
       "0  One of the other reviewers has mentioned that ...  positive\n",
       "1  A wonderful little production. <br /><br />The...  positive\n",
       "2  I thought this was a wonderful way to spend ti...  positive\n",
       "3  Basically there's a family where a little boy ...  negative\n",
       "4  Petter Mattei's \"Love in the Time of Money\" is...  positive"
      ]
     },
     "execution_count": 3,
     "metadata": {},
     "output_type": "execute_result"
    }
   ],
   "source": [
    "df.head()"
   ]
  },
  {
   "cell_type": "code",
   "execution_count": 4,
   "id": "8a7be7b0",
   "metadata": {},
   "outputs": [
    {
     "data": {
      "text/plain": [
       "(50000, 2)"
      ]
     },
     "execution_count": 4,
     "metadata": {},
     "output_type": "execute_result"
    }
   ],
   "source": [
    "df.shape"
   ]
  },
  {
   "cell_type": "code",
   "execution_count": 5,
   "id": "a864b2ac",
   "metadata": {},
   "outputs": [
    {
     "data": {
      "text/plain": [
       "\"Basically there's a family where a little boy (Jake) thinks there's a zombie in his closet & his parents are fighting all the time.<br /><br />This movie is slower than a soap opera... and suddenly, Jake decides to become Rambo and kill the zombie.<br /><br />OK, first of all when you're going to make a film you must Decide if its a thriller or a drama! As a drama the movie is watchable. Parents are divorcing & arguing like in real life. And then we have Jake with his closet which totally ruins all the film! I expected to see a BOOGEYMAN similar movie, and instead i watched a drama with some meaningless thriller spots.<br /><br />3 out of 10 just for the well playing parents & descent dialogs. As for the shots with Jake: just ignore them.\""
      ]
     },
     "execution_count": 5,
     "metadata": {},
     "output_type": "execute_result"
    }
   ],
   "source": [
    "# looking at any random review to get insights like: what type of data cleaning are required\n",
    "df['review'][3]"
   ]
  },
  {
   "cell_type": "markdown",
   "id": "5af223fa",
   "metadata": {},
   "source": [
    "### Text Preprocessing"
   ]
  },
  {
   "cell_type": "code",
   "execution_count": 6,
   "id": "6d2eda63",
   "metadata": {},
   "outputs": [],
   "source": [
    "# Converting reviews to lowercase \n",
    "df['review']=df['review'].str.lower()"
   ]
  },
  {
   "cell_type": "code",
   "execution_count": 7,
   "id": "dbba87e1",
   "metadata": {},
   "outputs": [
    {
     "data": {
      "text/html": [
       "<div>\n",
       "<style scoped>\n",
       "    .dataframe tbody tr th:only-of-type {\n",
       "        vertical-align: middle;\n",
       "    }\n",
       "\n",
       "    .dataframe tbody tr th {\n",
       "        vertical-align: top;\n",
       "    }\n",
       "\n",
       "    .dataframe thead th {\n",
       "        text-align: right;\n",
       "    }\n",
       "</style>\n",
       "<table border=\"1\" class=\"dataframe\">\n",
       "  <thead>\n",
       "    <tr style=\"text-align: right;\">\n",
       "      <th></th>\n",
       "      <th>review</th>\n",
       "      <th>sentiment</th>\n",
       "    </tr>\n",
       "  </thead>\n",
       "  <tbody>\n",
       "    <tr>\n",
       "      <th>0</th>\n",
       "      <td>one of the other reviewers has mentioned that ...</td>\n",
       "      <td>positive</td>\n",
       "    </tr>\n",
       "    <tr>\n",
       "      <th>1</th>\n",
       "      <td>a wonderful little production. &lt;br /&gt;&lt;br /&gt;the...</td>\n",
       "      <td>positive</td>\n",
       "    </tr>\n",
       "    <tr>\n",
       "      <th>2</th>\n",
       "      <td>i thought this was a wonderful way to spend ti...</td>\n",
       "      <td>positive</td>\n",
       "    </tr>\n",
       "    <tr>\n",
       "      <th>3</th>\n",
       "      <td>basically there's a family where a little boy ...</td>\n",
       "      <td>negative</td>\n",
       "    </tr>\n",
       "    <tr>\n",
       "      <th>4</th>\n",
       "      <td>petter mattei's \"love in the time of money\" is...</td>\n",
       "      <td>positive</td>\n",
       "    </tr>\n",
       "  </tbody>\n",
       "</table>\n",
       "</div>"
      ],
      "text/plain": [
       "                                              review sentiment\n",
       "0  one of the other reviewers has mentioned that ...  positive\n",
       "1  a wonderful little production. <br /><br />the...  positive\n",
       "2  i thought this was a wonderful way to spend ti...  positive\n",
       "3  basically there's a family where a little boy ...  negative\n",
       "4  petter mattei's \"love in the time of money\" is...  positive"
      ]
     },
     "execution_count": 7,
     "metadata": {},
     "output_type": "execute_result"
    }
   ],
   "source": [
    "df.head()"
   ]
  },
  {
   "cell_type": "code",
   "execution_count": 8,
   "id": "0da85dda",
   "metadata": {},
   "outputs": [],
   "source": [
    "# Creating a text cleaning function\n",
    "\n",
    "def cleaning_text(text):\n",
    "    \n",
    "    \n",
    "    # removing html tag\n",
    "    text= re.sub(r'<.*?>','',text)\n",
    "    \n",
    "    # removing punctuation\n",
    "    text=text.translate(str.maketrans('','',string.punctuation))\n",
    "    \n",
    "    # converting to lowercase\n",
    "    text = text.lower()\n",
    "    \n",
    "    # removing non-ascii \n",
    "    text=re.sub(r'[^\\x00-\\x7F]','',text)\n",
    "\n",
    "    # removing numbers\n",
    "    text=re.sub(r'\\d+','',text)\n",
    "    \n",
    "    # Remove words with repeated characters like \"aaaaahhhhhh\"\n",
    "    text = re.sub(r'\\b[a-zA-Z]*([a-z])\\1{2,}[a-z]*\\b', '', text)\n",
    "\n",
    "    # Remove extra whitespace\n",
    "    text = re.sub(r'\\s+', ' ', text).strip()\n",
    "    \n",
    "    # tokenize\n",
    "    words=text.split()\n",
    "    \n",
    "    # removing stopwords\n",
    "    stop_words=set(stopwords.words('english'))\n",
    "    words=[word for word in words if word not in stop_words]\n",
    "               \n",
    "    # lemmatizing\n",
    "    lemmatizer=WordNetLemmatizer()\n",
    "    words = [lemmatizer.lemmatize(word) for word in words]\n",
    "\n",
    "    return ' '.join(words)"
   ]
  },
  {
   "cell_type": "code",
   "execution_count": 9,
   "id": "786381b3",
   "metadata": {},
   "outputs": [
    {
     "data": {
      "application/vnd.jupyter.widget-view+json": {
       "model_id": "929c25a62b7c44dc956e619bb4ecbb48",
       "version_major": 2,
       "version_minor": 0
      },
      "text/plain": [
       "Pandas Apply:   0%|          | 0/50000 [00:00<?, ?it/s]"
      ]
     },
     "metadata": {},
     "output_type": "display_data"
    }
   ],
   "source": [
    "# Applying cleaning using swifter for performance boost\n",
    "df['cleaned_review']=df['review'].swifter.apply(cleaning_text)"
   ]
  },
  {
   "cell_type": "code",
   "execution_count": 10,
   "id": "439ee5a5",
   "metadata": {},
   "outputs": [
    {
     "data": {
      "text/html": [
       "<div>\n",
       "<style scoped>\n",
       "    .dataframe tbody tr th:only-of-type {\n",
       "        vertical-align: middle;\n",
       "    }\n",
       "\n",
       "    .dataframe tbody tr th {\n",
       "        vertical-align: top;\n",
       "    }\n",
       "\n",
       "    .dataframe thead th {\n",
       "        text-align: right;\n",
       "    }\n",
       "</style>\n",
       "<table border=\"1\" class=\"dataframe\">\n",
       "  <thead>\n",
       "    <tr style=\"text-align: right;\">\n",
       "      <th></th>\n",
       "      <th>review</th>\n",
       "      <th>sentiment</th>\n",
       "      <th>cleaned_review</th>\n",
       "    </tr>\n",
       "  </thead>\n",
       "  <tbody>\n",
       "    <tr>\n",
       "      <th>0</th>\n",
       "      <td>one of the other reviewers has mentioned that ...</td>\n",
       "      <td>positive</td>\n",
       "      <td>one reviewer mentioned watching oz episode you...</td>\n",
       "    </tr>\n",
       "    <tr>\n",
       "      <th>1</th>\n",
       "      <td>a wonderful little production. &lt;br /&gt;&lt;br /&gt;the...</td>\n",
       "      <td>positive</td>\n",
       "      <td>wonderful little production filming technique ...</td>\n",
       "    </tr>\n",
       "    <tr>\n",
       "      <th>2</th>\n",
       "      <td>i thought this was a wonderful way to spend ti...</td>\n",
       "      <td>positive</td>\n",
       "      <td>thought wonderful way spend time hot summer we...</td>\n",
       "    </tr>\n",
       "    <tr>\n",
       "      <th>3</th>\n",
       "      <td>basically there's a family where a little boy ...</td>\n",
       "      <td>negative</td>\n",
       "      <td>basically there family little boy jake think t...</td>\n",
       "    </tr>\n",
       "    <tr>\n",
       "      <th>4</th>\n",
       "      <td>petter mattei's \"love in the time of money\" is...</td>\n",
       "      <td>positive</td>\n",
       "      <td>petter matteis love time money visually stunni...</td>\n",
       "    </tr>\n",
       "  </tbody>\n",
       "</table>\n",
       "</div>"
      ],
      "text/plain": [
       "                                              review sentiment   \n",
       "0  one of the other reviewers has mentioned that ...  positive  \\\n",
       "1  a wonderful little production. <br /><br />the...  positive   \n",
       "2  i thought this was a wonderful way to spend ti...  positive   \n",
       "3  basically there's a family where a little boy ...  negative   \n",
       "4  petter mattei's \"love in the time of money\" is...  positive   \n",
       "\n",
       "                                      cleaned_review  \n",
       "0  one reviewer mentioned watching oz episode you...  \n",
       "1  wonderful little production filming technique ...  \n",
       "2  thought wonderful way spend time hot summer we...  \n",
       "3  basically there family little boy jake think t...  \n",
       "4  petter matteis love time money visually stunni...  "
      ]
     },
     "execution_count": 10,
     "metadata": {},
     "output_type": "execute_result"
    }
   ],
   "source": [
    "# Checking cleaned data\n",
    "df.head()"
   ]
  },
  {
   "cell_type": "markdown",
   "id": "34e49744",
   "metadata": {},
   "source": [
    "###  Feature Engineering with TF-IDF"
   ]
  },
  {
   "cell_type": "code",
   "execution_count": 11,
   "id": "3a31dd09",
   "metadata": {},
   "outputs": [],
   "source": [
    "# Converting cleaned text into TF-IDF features\n",
    "tfidf=TfidfVectorizer(max_features=1000)"
   ]
  },
  {
   "cell_type": "code",
   "execution_count": 12,
   "id": "2925cdc8",
   "metadata": {},
   "outputs": [],
   "source": [
    "X = tfidf.fit_transform(df['cleaned_review'])"
   ]
  },
  {
   "cell_type": "code",
   "execution_count": 13,
   "id": "1efcdaf5",
   "metadata": {},
   "outputs": [
    {
     "data": {
      "text/plain": [
       "array(['ability', 'able', 'absolutely', 'accent', 'across', 'act',\n",
       "       'acted', 'acting', 'action', 'actor', 'actress', 'actual',\n",
       "       'actually', 'adaptation', 'add', 'admit', 'adult', 'adventure',\n",
       "       'age', 'ago', 'agree', 'air', 'alien', 'alive', 'almost', 'alone',\n",
       "       'along', 'already', 'also', 'although', 'always', 'amazing',\n",
       "       'america', 'american', 'among', 'amount', 'animal', 'animation',\n",
       "       'annoying', 'another', 'answer', 'anyone', 'anything', 'anyway',\n",
       "       'apart', 'apparently', 'appear', 'appearance', 'appears',\n",
       "       'appreciate', 'arent', 'around', 'art', 'ask', 'aspect',\n",
       "       'atmosphere', 'attack', 'attempt', 'attention', 'audience',\n",
       "       'average', 'avoid', 'award', 'away', 'awful', 'baby', 'back',\n",
       "       'background', 'bad', 'badly', 'band', 'based', 'basic',\n",
       "       'basically', 'battle', 'beautiful', 'beauty', 'became', 'become',\n",
       "       'becomes', 'begin', 'beginning', 'behind', 'belief', 'believable',\n",
       "       'believe', 'best', 'better', 'beyond', 'big', 'biggest', 'bill',\n",
       "       'bit', 'bizarre', 'black', 'blood', 'blue', 'body', 'book',\n",
       "       'bored', 'boring', 'bother', 'box', 'boy', 'brain', 'break',\n",
       "       'brilliant', 'bring', 'brings', 'british', 'brother', 'brought',\n",
       "       'budget', 'building', 'bunch', 'business', 'buy', 'call', 'called',\n",
       "       'came', 'camera', 'camp', 'cannot', 'cant', 'car', 'care',\n",
       "       'career', 'carry', 'cartoon', 'case', 'cast', 'casting', 'cat',\n",
       "       'catch', 'caught', 'cause', 'century', 'certain', 'certainly',\n",
       "       'chance', 'change', 'channel', 'character', 'chase', 'cheap',\n",
       "       'check', 'cheesy', 'child', 'choice', 'christmas', 'cinema',\n",
       "       'cinematography', 'city', 'class', 'classic', 'clear', 'clearly',\n",
       "       'clever', 'close', 'cold', 'college', 'color', 'come', 'comedy',\n",
       "       'comic', 'coming', 'comment', 'common', 'company', 'compared',\n",
       "       'complete', 'completely', 'computer', 'concept', 'considering',\n",
       "       'control', 'convincing', 'cool', 'cop', 'copy', 'costume', 'could',\n",
       "       'couldnt', 'country', 'couple', 'course', 'cover', 'crap', 'crazy',\n",
       "       'create', 'created', 'creature', 'credit', 'creepy', 'crew',\n",
       "       'crime', 'critic', 'cry', 'culture', 'cut', 'cute', 'dance',\n",
       "       'dancing', 'dark', 'daughter', 'david', 'day', 'de', 'dead',\n",
       "       'deal', 'death', 'decent', 'decide', 'decided', 'decides', 'deep',\n",
       "       'definitely', 'depth', 'deserves', 'despite', 'detail',\n",
       "       'development', 'dialog', 'dialogue', 'didnt', 'die', 'died',\n",
       "       'different', 'difficult', 'directed', 'directing', 'direction',\n",
       "       'director', 'disappointed', 'disney', 'doctor', 'documentary',\n",
       "       'doesnt', 'dog', 'done', 'dont', 'door', 'doubt', 'dr', 'drama',\n",
       "       'dramatic', 'dream', 'drive', 'drug', 'due', 'dull', 'dumb', 'dvd',\n",
       "       'earlier', 'early', 'earth', 'easily', 'easy', 'editing', 'effect',\n",
       "       'effort', 'either', 'element', 'else', 'emotion', 'emotional',\n",
       "       'end', 'ended', 'ending', 'english', 'enjoy', 'enjoyable',\n",
       "       'enjoyed', 'enough', 'entertaining', 'entertainment', 'entire',\n",
       "       'entirely', 'episode', 'era', 'escape', 'especially', 'etc',\n",
       "       'even', 'event', 'eventually', 'ever', 'every', 'everyone',\n",
       "       'everything', 'evil', 'exactly', 'example', 'excellent', 'except',\n",
       "       'expect', 'expected', 'expecting', 'experience', 'extra',\n",
       "       'extremely', 'eye', 'face', 'fact', 'fails', 'fairly', 'fake',\n",
       "       'fall', 'familiar', 'family', 'famous', 'fan', 'fantastic',\n",
       "       'fantasy', 'far', 'fast', 'father', 'favorite', 'fear', 'feature',\n",
       "       'feel', 'feeling', 'felt', 'female', 'fight', 'fighting', 'figure',\n",
       "       'filled', 'film', 'filmed', 'filmmaker', 'final', 'finally',\n",
       "       'find', 'fine', 'fire', 'first', 'fit', 'five', 'flat', 'flaw',\n",
       "       'flick', 'focus', 'follow', 'following', 'follows', 'footage',\n",
       "       'force', 'forced', 'forget', 'form', 'former', 'forward', 'found',\n",
       "       'four', 'free', 'french', 'friend', 'front', 'full', 'fun',\n",
       "       'funny', 'future', 'game', 'gang', 'gave', 'gay', 'general',\n",
       "       'genius', 'genre', 'george', 'german', 'get', 'getting', 'ghost',\n",
       "       'girl', 'girlfriend', 'give', 'given', 'giving', 'go', 'god',\n",
       "       'going', 'gone', 'good', 'gore', 'got', 'great', 'greatest',\n",
       "       'group', 'guess', 'gun', 'guy', 'hair', 'half', 'hand', 'happen',\n",
       "       'happened', 'happens', 'happy', 'hard', 'hardly', 'hate', 'havent',\n",
       "       'he', 'head', 'hear', 'heard', 'heart', 'hell', 'help', 'hero',\n",
       "       'high', 'highly', 'hilarious', 'history', 'hit', 'hold', 'hole',\n",
       "       'hollywood', 'home', 'hope', 'horrible', 'horror', 'hot', 'hour',\n",
       "       'house', 'however', 'huge', 'human', 'humor', 'husband', 'id',\n",
       "       'idea', 'ill', 'im', 'image', 'imagine', 'imdb', 'important',\n",
       "       'including', 'incredible', 'incredibly', 'indeed', 'indian',\n",
       "       'inside', 'instead', 'intelligent', 'interest', 'interested',\n",
       "       'interesting', 'involved', 'island', 'isnt', 'issue', 'italian',\n",
       "       'ive', 'jack', 'james', 'japanese', 'job', 'joe', 'john', 'joke',\n",
       "       'keep', 'kept', 'kid', 'kill', 'killed', 'killer', 'killing',\n",
       "       'kind', 'king', 'knew', 'know', 'known', 'la', 'lack', 'lady',\n",
       "       'lame', 'land', 'language', 'large', 'last', 'late', 'later',\n",
       "       'laugh', 'laughing', 'le', 'lead', 'leading', 'leaf', 'learn',\n",
       "       'least', 'leave', 'lee', 'left', 'let', 'level', 'lie', 'life',\n",
       "       'light', 'like', 'liked', 'line', 'list', 'little', 'live',\n",
       "       'living', 'local', 'location', 'long', 'longer', 'look', 'looked',\n",
       "       'looking', 'lost', 'lot', 'love', 'loved', 'lover', 'low', 'mad',\n",
       "       'made', 'main', 'major', 'make', 'maker', 'making', 'male', 'man',\n",
       "       'manages', 'many', 'mark', 'married', 'master', 'masterpiece',\n",
       "       'match', 'material', 'matter', 'may', 'maybe', 'mean', 'meaning',\n",
       "       'meant', 'meet', 'member', 'memorable', 'memory', 'men', 'mention',\n",
       "       'mentioned', 'mess', 'message', 'michael', 'middle', 'might',\n",
       "       'million', 'mind', 'minute', 'miss', 'missed', 'missing',\n",
       "       'mistake', 'modern', 'moment', 'money', 'monster', 'mostly',\n",
       "       'mother', 'move', 'movie', 'moving', 'mr', 'much', 'murder',\n",
       "       'music', 'musical', 'must', 'mystery', 'name', 'named', 'nature',\n",
       "       'near', 'nearly', 'need', 'needed', 'neither', 'never', 'new',\n",
       "       'next', 'nice', 'night', 'none', 'note', 'nothing', 'novel',\n",
       "       'nudity', 'number', 'obvious', 'obviously', 'odd', 'offer',\n",
       "       'office', 'often', 'oh', 'ok', 'okay', 'old', 'older', 'one',\n",
       "       'open', 'opening', 'opinion', 'order', 'original', 'oscar',\n",
       "       'others', 'otherwise', 'outside', 'overall', 'pace', 'parent',\n",
       "       'part', 'particular', 'particularly', 'party', 'past', 'paul',\n",
       "       'pay', 'people', 'perfect', 'perfectly', 'performance', 'perhaps',\n",
       "       'period', 'person', 'personal', 'peter', 'pick', 'picture',\n",
       "       'piece', 'place', 'plain', 'plan', 'play', 'played', 'player',\n",
       "       'playing', 'please', 'plenty', 'plot', 'plus', 'point', 'police',\n",
       "       'political', 'poor', 'poorly', 'popular', 'portrayal', 'portrayed',\n",
       "       'positive', 'possible', 'possibly', 'potential', 'power',\n",
       "       'powerful', 'predictable', 'premise', 'present', 'pretty',\n",
       "       'previous', 'probably', 'problem', 'produced', 'producer',\n",
       "       'production', 'project', 'public', 'pull', 'pure', 'purpose',\n",
       "       'put', 'quality', 'question', 'quickly', 'quite', 'rate', 'rather',\n",
       "       'rating', 'read', 'reading', 'real', 'realistic', 'reality',\n",
       "       'realize', 'really', 'reason', 'recent', 'recently', 'recommend',\n",
       "       'red', 'relationship', 'release', 'released', 'remake', 'remember',\n",
       "       'rent', 'respect', 'rest', 'result', 'return', 'review', 'rich',\n",
       "       'richard', 'ride', 'ridiculous', 'right', 'robert', 'rock', 'role',\n",
       "       'romance', 'romantic', 'room', 'run', 'running', 'sad', 'sadly',\n",
       "       'said', 'save', 'saw', 'say', 'saying', 'scary', 'scene', 'school',\n",
       "       'science', 'scifi', 'score', 'scott', 'screen', 'screenplay',\n",
       "       'script', 'season', 'second', 'secret', 'see', 'seeing', 'seem',\n",
       "       'seemed', 'seems', 'seen', 'sense', 'sequel', 'sequence', 'series',\n",
       "       'serious', 'seriously', 'set', 'setting', 'several', 'sex',\n",
       "       'sexual', 'shame', 'shes', 'shoot', 'shooting', 'short', 'shot',\n",
       "       'show', 'showing', 'shown', 'side', 'silly', 'similar', 'simple',\n",
       "       'simply', 'since', 'single', 'sister', 'sit', 'situation',\n",
       "       'slightly', 'slow', 'small', 'social', 'society', 'soldier',\n",
       "       'somehow', 'someone', 'something', 'sometimes', 'somewhat', 'son',\n",
       "       'song', 'soon', 'sorry', 'sort', 'soul', 'sound', 'soundtrack',\n",
       "       'space', 'speak', 'special', 'spend', 'spent', 'spirit', 'spoiler',\n",
       "       'stage', 'stand', 'standard', 'star', 'start', 'started', 'state',\n",
       "       'stay', 'stick', 'still', 'stop', 'store', 'story', 'storyline',\n",
       "       'straight', 'strange', 'street', 'strong', 'student', 'studio',\n",
       "       'stuff', 'stupid', 'style', 'subject', 'success', 'successful',\n",
       "       'suddenly', 'superb', 'supporting', 'supposed', 'sure', 'surprise',\n",
       "       'surprised', 'suspense', 'sweet', 'take', 'taken', 'taking',\n",
       "       'tale', 'talent', 'talented', 'talk', 'talking', 'taste', 'team',\n",
       "       'teen', 'teenager', 'television', 'tell', 'telling', 'ten',\n",
       "       'tension', 'term', 'terrible', 'th', 'thats', 'theater', 'theme',\n",
       "       'there', 'theyre', 'thing', 'think', 'thinking', 'third', 'though',\n",
       "       'thought', 'three', 'thriller', 'throughout', 'throw', 'time',\n",
       "       'title', 'today', 'together', 'told', 'tom', 'tone', 'took', 'top',\n",
       "       'total', 'totally', 'touch', 'towards', 'town', 'track', 'train',\n",
       "       'tried', 'trouble', 'true', 'truly', 'truth', 'try', 'trying',\n",
       "       'turn', 'turned', 'tv', 'twist', 'two', 'type', 'typical',\n",
       "       'understand', 'unfortunately', 'unique', 'unless', 'unlike',\n",
       "       'upon', 'us', 'use', 'used', 'using', 'usual', 'usually', 'value',\n",
       "       'vampire', 'van', 'various', 'version', 'victim', 'video', 'view',\n",
       "       'viewer', 'viewing', 'villain', 'violence', 'violent', 'visual',\n",
       "       'voice', 'wait', 'waiting', 'walk', 'want', 'wanted', 'war',\n",
       "       'wasnt', 'waste', 'wasted', 'watch', 'watched', 'watching',\n",
       "       'water', 'way', 'weak', 'week', 'weird', 'well', 'went', 'werent',\n",
       "       'western', 'whatever', 'whats', 'whether', 'white', 'who', 'whole',\n",
       "       'whose', 'wife', 'william', 'win', 'wish', 'within', 'without',\n",
       "       'woman', 'wonder', 'wonderful', 'wont', 'wood', 'word', 'work',\n",
       "       'worked', 'working', 'world', 'worse', 'worst', 'worth', 'would',\n",
       "       'wouldnt', 'write', 'writer', 'writing', 'written', 'wrong',\n",
       "       'wrote', 'year', 'yes', 'yet', 'york', 'youll', 'young', 'younger',\n",
       "       'youre', 'youve', 'zombie'], dtype=object)"
      ]
     },
     "execution_count": 13,
     "metadata": {},
     "output_type": "execute_result"
    }
   ],
   "source": [
    "# Displaying features name\n",
    "tfidf.get_feature_names_out()"
   ]
  },
  {
   "cell_type": "code",
   "execution_count": 14,
   "id": "917af849",
   "metadata": {},
   "outputs": [
    {
     "data": {
      "text/plain": [
       "(50000, 1000)"
      ]
     },
     "execution_count": 14,
     "metadata": {},
     "output_type": "execute_result"
    }
   ],
   "source": [
    "X.shape"
   ]
  },
  {
   "cell_type": "markdown",
   "id": "f624f1fa",
   "metadata": {},
   "source": [
    "### Label Encoding"
   ]
  },
  {
   "cell_type": "code",
   "execution_count": 15,
   "id": "0fc07623",
   "metadata": {},
   "outputs": [
    {
     "data": {
      "text/plain": [
       "0        positive\n",
       "1        positive\n",
       "2        positive\n",
       "3        negative\n",
       "4        positive\n",
       "           ...   \n",
       "49995    positive\n",
       "49996    negative\n",
       "49997    negative\n",
       "49998    negative\n",
       "49999    negative\n",
       "Name: sentiment, Length: 50000, dtype: object"
      ]
     },
     "execution_count": 15,
     "metadata": {},
     "output_type": "execute_result"
    }
   ],
   "source": [
    "df['sentiment']"
   ]
  },
  {
   "cell_type": "code",
   "execution_count": 16,
   "id": "bfc34a4b",
   "metadata": {},
   "outputs": [],
   "source": [
    "# Map sentiment to binary labels\n",
    "df['label']=df['sentiment'].map({'positive':1,'negative':0})"
   ]
  },
  {
   "cell_type": "code",
   "execution_count": 17,
   "id": "530aebc7",
   "metadata": {},
   "outputs": [
    {
     "data": {
      "text/plain": [
       "0        1\n",
       "1        1\n",
       "2        1\n",
       "3        0\n",
       "4        1\n",
       "        ..\n",
       "49995    1\n",
       "49996    0\n",
       "49997    0\n",
       "49998    0\n",
       "49999    0\n",
       "Name: label, Length: 50000, dtype: int64"
      ]
     },
     "execution_count": 17,
     "metadata": {},
     "output_type": "execute_result"
    }
   ],
   "source": [
    "df['label']"
   ]
  },
  {
   "cell_type": "code",
   "execution_count": 18,
   "id": "958b11e8",
   "metadata": {},
   "outputs": [
    {
     "data": {
      "text/plain": [
       "label\n",
       "1    25000\n",
       "0    25000\n",
       "Name: count, dtype: int64"
      ]
     },
     "execution_count": 18,
     "metadata": {},
     "output_type": "execute_result"
    }
   ],
   "source": [
    "# Checking label distribution\n",
    "df['label'].value_counts()"
   ]
  },
  {
   "cell_type": "code",
   "execution_count": 19,
   "id": "fa634f74",
   "metadata": {},
   "outputs": [
    {
     "data": {
      "text/html": [
       "<div>\n",
       "<style scoped>\n",
       "    .dataframe tbody tr th:only-of-type {\n",
       "        vertical-align: middle;\n",
       "    }\n",
       "\n",
       "    .dataframe tbody tr th {\n",
       "        vertical-align: top;\n",
       "    }\n",
       "\n",
       "    .dataframe thead th {\n",
       "        text-align: right;\n",
       "    }\n",
       "</style>\n",
       "<table border=\"1\" class=\"dataframe\">\n",
       "  <thead>\n",
       "    <tr style=\"text-align: right;\">\n",
       "      <th></th>\n",
       "      <th>review</th>\n",
       "      <th>sentiment</th>\n",
       "      <th>cleaned_review</th>\n",
       "      <th>label</th>\n",
       "    </tr>\n",
       "  </thead>\n",
       "  <tbody>\n",
       "    <tr>\n",
       "      <th>0</th>\n",
       "      <td>one of the other reviewers has mentioned that ...</td>\n",
       "      <td>positive</td>\n",
       "      <td>one reviewer mentioned watching oz episode you...</td>\n",
       "      <td>1</td>\n",
       "    </tr>\n",
       "    <tr>\n",
       "      <th>1</th>\n",
       "      <td>a wonderful little production. &lt;br /&gt;&lt;br /&gt;the...</td>\n",
       "      <td>positive</td>\n",
       "      <td>wonderful little production filming technique ...</td>\n",
       "      <td>1</td>\n",
       "    </tr>\n",
       "    <tr>\n",
       "      <th>2</th>\n",
       "      <td>i thought this was a wonderful way to spend ti...</td>\n",
       "      <td>positive</td>\n",
       "      <td>thought wonderful way spend time hot summer we...</td>\n",
       "      <td>1</td>\n",
       "    </tr>\n",
       "    <tr>\n",
       "      <th>3</th>\n",
       "      <td>basically there's a family where a little boy ...</td>\n",
       "      <td>negative</td>\n",
       "      <td>basically there family little boy jake think t...</td>\n",
       "      <td>0</td>\n",
       "    </tr>\n",
       "    <tr>\n",
       "      <th>4</th>\n",
       "      <td>petter mattei's \"love in the time of money\" is...</td>\n",
       "      <td>positive</td>\n",
       "      <td>petter matteis love time money visually stunni...</td>\n",
       "      <td>1</td>\n",
       "    </tr>\n",
       "  </tbody>\n",
       "</table>\n",
       "</div>"
      ],
      "text/plain": [
       "                                              review sentiment   \n",
       "0  one of the other reviewers has mentioned that ...  positive  \\\n",
       "1  a wonderful little production. <br /><br />the...  positive   \n",
       "2  i thought this was a wonderful way to spend ti...  positive   \n",
       "3  basically there's a family where a little boy ...  negative   \n",
       "4  petter mattei's \"love in the time of money\" is...  positive   \n",
       "\n",
       "                                      cleaned_review  label  \n",
       "0  one reviewer mentioned watching oz episode you...      1  \n",
       "1  wonderful little production filming technique ...      1  \n",
       "2  thought wonderful way spend time hot summer we...      1  \n",
       "3  basically there family little boy jake think t...      0  \n",
       "4  petter matteis love time money visually stunni...      1  "
      ]
     },
     "execution_count": 19,
     "metadata": {},
     "output_type": "execute_result"
    }
   ],
   "source": [
    "df.head()"
   ]
  },
  {
   "cell_type": "code",
   "execution_count": 20,
   "id": "31442127",
   "metadata": {},
   "outputs": [],
   "source": [
    "# Split into train and test sets\n",
    "x_train,x_test,y_train,y_test=train_test_split(X ,df['label'],test_size=0.2,random_state=42)"
   ]
  },
  {
   "cell_type": "code",
   "execution_count": 21,
   "id": "6dd0b1e2",
   "metadata": {},
   "outputs": [
    {
     "data": {
      "text/plain": [
       "(40000, 1000)"
      ]
     },
     "execution_count": 21,
     "metadata": {},
     "output_type": "execute_result"
    }
   ],
   "source": [
    "x_train.shape"
   ]
  },
  {
   "cell_type": "code",
   "execution_count": 22,
   "id": "c0d0cebc",
   "metadata": {},
   "outputs": [
    {
     "data": {
      "text/plain": [
       "(10000, 1000)"
      ]
     },
     "execution_count": 22,
     "metadata": {},
     "output_type": "execute_result"
    }
   ],
   "source": [
    "x_test.shape"
   ]
  },
  {
   "cell_type": "code",
   "execution_count": 23,
   "id": "e16cb373",
   "metadata": {},
   "outputs": [
    {
     "data": {
      "text/plain": [
       "(40000,)"
      ]
     },
     "execution_count": 23,
     "metadata": {},
     "output_type": "execute_result"
    }
   ],
   "source": [
    "y_train.shape"
   ]
  },
  {
   "cell_type": "code",
   "execution_count": 24,
   "id": "302a1063",
   "metadata": {},
   "outputs": [
    {
     "data": {
      "text/plain": [
       "(10000,)"
      ]
     },
     "execution_count": 24,
     "metadata": {},
     "output_type": "execute_result"
    }
   ],
   "source": [
    "y_test.shape"
   ]
  },
  {
   "cell_type": "markdown",
   "id": "0dc80697",
   "metadata": {},
   "source": [
    "### Model 1: Logistic Regression"
   ]
  },
  {
   "cell_type": "code",
   "execution_count": 26,
   "id": "7ec75357",
   "metadata": {},
   "outputs": [],
   "source": [
    "## Initialize and train Logistic Regression model\n",
    "model=LogisticRegression(max_iter=200)"
   ]
  },
  {
   "cell_type": "code",
   "execution_count": 27,
   "id": "ff620158",
   "metadata": {},
   "outputs": [
    {
     "data": {
      "text/html": [
       "<style>#sk-container-id-1 {color: black;background-color: white;}#sk-container-id-1 pre{padding: 0;}#sk-container-id-1 div.sk-toggleable {background-color: white;}#sk-container-id-1 label.sk-toggleable__label {cursor: pointer;display: block;width: 100%;margin-bottom: 0;padding: 0.3em;box-sizing: border-box;text-align: center;}#sk-container-id-1 label.sk-toggleable__label-arrow:before {content: \"▸\";float: left;margin-right: 0.25em;color: #696969;}#sk-container-id-1 label.sk-toggleable__label-arrow:hover:before {color: black;}#sk-container-id-1 div.sk-estimator:hover label.sk-toggleable__label-arrow:before {color: black;}#sk-container-id-1 div.sk-toggleable__content {max-height: 0;max-width: 0;overflow: hidden;text-align: left;background-color: #f0f8ff;}#sk-container-id-1 div.sk-toggleable__content pre {margin: 0.2em;color: black;border-radius: 0.25em;background-color: #f0f8ff;}#sk-container-id-1 input.sk-toggleable__control:checked~div.sk-toggleable__content {max-height: 200px;max-width: 100%;overflow: auto;}#sk-container-id-1 input.sk-toggleable__control:checked~label.sk-toggleable__label-arrow:before {content: \"▾\";}#sk-container-id-1 div.sk-estimator input.sk-toggleable__control:checked~label.sk-toggleable__label {background-color: #d4ebff;}#sk-container-id-1 div.sk-label input.sk-toggleable__control:checked~label.sk-toggleable__label {background-color: #d4ebff;}#sk-container-id-1 input.sk-hidden--visually {border: 0;clip: rect(1px 1px 1px 1px);clip: rect(1px, 1px, 1px, 1px);height: 1px;margin: -1px;overflow: hidden;padding: 0;position: absolute;width: 1px;}#sk-container-id-1 div.sk-estimator {font-family: monospace;background-color: #f0f8ff;border: 1px dotted black;border-radius: 0.25em;box-sizing: border-box;margin-bottom: 0.5em;}#sk-container-id-1 div.sk-estimator:hover {background-color: #d4ebff;}#sk-container-id-1 div.sk-parallel-item::after {content: \"\";width: 100%;border-bottom: 1px solid gray;flex-grow: 1;}#sk-container-id-1 div.sk-label:hover label.sk-toggleable__label {background-color: #d4ebff;}#sk-container-id-1 div.sk-serial::before {content: \"\";position: absolute;border-left: 1px solid gray;box-sizing: border-box;top: 0;bottom: 0;left: 50%;z-index: 0;}#sk-container-id-1 div.sk-serial {display: flex;flex-direction: column;align-items: center;background-color: white;padding-right: 0.2em;padding-left: 0.2em;position: relative;}#sk-container-id-1 div.sk-item {position: relative;z-index: 1;}#sk-container-id-1 div.sk-parallel {display: flex;align-items: stretch;justify-content: center;background-color: white;position: relative;}#sk-container-id-1 div.sk-item::before, #sk-container-id-1 div.sk-parallel-item::before {content: \"\";position: absolute;border-left: 1px solid gray;box-sizing: border-box;top: 0;bottom: 0;left: 50%;z-index: -1;}#sk-container-id-1 div.sk-parallel-item {display: flex;flex-direction: column;z-index: 1;position: relative;background-color: white;}#sk-container-id-1 div.sk-parallel-item:first-child::after {align-self: flex-end;width: 50%;}#sk-container-id-1 div.sk-parallel-item:last-child::after {align-self: flex-start;width: 50%;}#sk-container-id-1 div.sk-parallel-item:only-child::after {width: 0;}#sk-container-id-1 div.sk-dashed-wrapped {border: 1px dashed gray;margin: 0 0.4em 0.5em 0.4em;box-sizing: border-box;padding-bottom: 0.4em;background-color: white;}#sk-container-id-1 div.sk-label label {font-family: monospace;font-weight: bold;display: inline-block;line-height: 1.2em;}#sk-container-id-1 div.sk-label-container {text-align: center;}#sk-container-id-1 div.sk-container {/* jupyter's `normalize.less` sets `[hidden] { display: none; }` but bootstrap.min.css set `[hidden] { display: none !important; }` so we also need the `!important` here to be able to override the default hidden behavior on the sphinx rendered scikit-learn.org. See: https://github.com/scikit-learn/scikit-learn/issues/21755 */display: inline-block !important;position: relative;}#sk-container-id-1 div.sk-text-repr-fallback {display: none;}</style><div id=\"sk-container-id-1\" class=\"sk-top-container\"><div class=\"sk-text-repr-fallback\"><pre>LogisticRegression(max_iter=200)</pre><b>In a Jupyter environment, please rerun this cell to show the HTML representation or trust the notebook. <br />On GitHub, the HTML representation is unable to render, please try loading this page with nbviewer.org.</b></div><div class=\"sk-container\" hidden><div class=\"sk-item\"><div class=\"sk-estimator sk-toggleable\"><input class=\"sk-toggleable__control sk-hidden--visually\" id=\"sk-estimator-id-1\" type=\"checkbox\" checked><label for=\"sk-estimator-id-1\" class=\"sk-toggleable__label sk-toggleable__label-arrow\">LogisticRegression</label><div class=\"sk-toggleable__content\"><pre>LogisticRegression(max_iter=200)</pre></div></div></div></div></div>"
      ],
      "text/plain": [
       "LogisticRegression(max_iter=200)"
      ]
     },
     "execution_count": 27,
     "metadata": {},
     "output_type": "execute_result"
    }
   ],
   "source": [
    "model.fit(x_train,y_train)"
   ]
  },
  {
   "cell_type": "code",
   "execution_count": 28,
   "id": "06c7a7a4",
   "metadata": {},
   "outputs": [],
   "source": [
    "# Predicting on test set\n",
    "y_pred=model.predict(x_test)"
   ]
  },
  {
   "cell_type": "markdown",
   "id": "ba8a650b",
   "metadata": {},
   "source": [
    "Evaluating performance"
   ]
  },
  {
   "cell_type": "code",
   "execution_count": 29,
   "id": "b4a4dc0c",
   "metadata": {},
   "outputs": [
    {
     "data": {
      "text/plain": [
       "0.8612"
      ]
     },
     "execution_count": 29,
     "metadata": {},
     "output_type": "execute_result"
    }
   ],
   "source": [
    "accuracy_score(y_test,y_pred)"
   ]
  },
  {
   "cell_type": "code",
   "execution_count": 30,
   "id": "6ba41795",
   "metadata": {},
   "outputs": [
    {
     "data": {
      "text/plain": [
       "'              precision    recall  f1-score   support\\n\\n           0       0.87      0.85      0.86      4961\\n           1       0.85      0.88      0.86      5039\\n\\n    accuracy                           0.86     10000\\n   macro avg       0.86      0.86      0.86     10000\\nweighted avg       0.86      0.86      0.86     10000\\n'"
      ]
     },
     "execution_count": 30,
     "metadata": {},
     "output_type": "execute_result"
    }
   ],
   "source": [
    "classification_report(y_test,y_pred)"
   ]
  },
  {
   "cell_type": "markdown",
   "id": "c05dca5f",
   "metadata": {},
   "source": [
    "### Model 2: Multinomial Naive Bayes"
   ]
  },
  {
   "cell_type": "code",
   "execution_count": 31,
   "id": "7cdd9c64",
   "metadata": {},
   "outputs": [],
   "source": [
    "# Initializing and train Logistic Regression model\n",
    "model= MultinomialNB()"
   ]
  },
  {
   "cell_type": "code",
   "execution_count": 32,
   "id": "5ec6455e",
   "metadata": {},
   "outputs": [
    {
     "data": {
      "text/html": [
       "<style>#sk-container-id-2 {color: black;background-color: white;}#sk-container-id-2 pre{padding: 0;}#sk-container-id-2 div.sk-toggleable {background-color: white;}#sk-container-id-2 label.sk-toggleable__label {cursor: pointer;display: block;width: 100%;margin-bottom: 0;padding: 0.3em;box-sizing: border-box;text-align: center;}#sk-container-id-2 label.sk-toggleable__label-arrow:before {content: \"▸\";float: left;margin-right: 0.25em;color: #696969;}#sk-container-id-2 label.sk-toggleable__label-arrow:hover:before {color: black;}#sk-container-id-2 div.sk-estimator:hover label.sk-toggleable__label-arrow:before {color: black;}#sk-container-id-2 div.sk-toggleable__content {max-height: 0;max-width: 0;overflow: hidden;text-align: left;background-color: #f0f8ff;}#sk-container-id-2 div.sk-toggleable__content pre {margin: 0.2em;color: black;border-radius: 0.25em;background-color: #f0f8ff;}#sk-container-id-2 input.sk-toggleable__control:checked~div.sk-toggleable__content {max-height: 200px;max-width: 100%;overflow: auto;}#sk-container-id-2 input.sk-toggleable__control:checked~label.sk-toggleable__label-arrow:before {content: \"▾\";}#sk-container-id-2 div.sk-estimator input.sk-toggleable__control:checked~label.sk-toggleable__label {background-color: #d4ebff;}#sk-container-id-2 div.sk-label input.sk-toggleable__control:checked~label.sk-toggleable__label {background-color: #d4ebff;}#sk-container-id-2 input.sk-hidden--visually {border: 0;clip: rect(1px 1px 1px 1px);clip: rect(1px, 1px, 1px, 1px);height: 1px;margin: -1px;overflow: hidden;padding: 0;position: absolute;width: 1px;}#sk-container-id-2 div.sk-estimator {font-family: monospace;background-color: #f0f8ff;border: 1px dotted black;border-radius: 0.25em;box-sizing: border-box;margin-bottom: 0.5em;}#sk-container-id-2 div.sk-estimator:hover {background-color: #d4ebff;}#sk-container-id-2 div.sk-parallel-item::after {content: \"\";width: 100%;border-bottom: 1px solid gray;flex-grow: 1;}#sk-container-id-2 div.sk-label:hover label.sk-toggleable__label {background-color: #d4ebff;}#sk-container-id-2 div.sk-serial::before {content: \"\";position: absolute;border-left: 1px solid gray;box-sizing: border-box;top: 0;bottom: 0;left: 50%;z-index: 0;}#sk-container-id-2 div.sk-serial {display: flex;flex-direction: column;align-items: center;background-color: white;padding-right: 0.2em;padding-left: 0.2em;position: relative;}#sk-container-id-2 div.sk-item {position: relative;z-index: 1;}#sk-container-id-2 div.sk-parallel {display: flex;align-items: stretch;justify-content: center;background-color: white;position: relative;}#sk-container-id-2 div.sk-item::before, #sk-container-id-2 div.sk-parallel-item::before {content: \"\";position: absolute;border-left: 1px solid gray;box-sizing: border-box;top: 0;bottom: 0;left: 50%;z-index: -1;}#sk-container-id-2 div.sk-parallel-item {display: flex;flex-direction: column;z-index: 1;position: relative;background-color: white;}#sk-container-id-2 div.sk-parallel-item:first-child::after {align-self: flex-end;width: 50%;}#sk-container-id-2 div.sk-parallel-item:last-child::after {align-self: flex-start;width: 50%;}#sk-container-id-2 div.sk-parallel-item:only-child::after {width: 0;}#sk-container-id-2 div.sk-dashed-wrapped {border: 1px dashed gray;margin: 0 0.4em 0.5em 0.4em;box-sizing: border-box;padding-bottom: 0.4em;background-color: white;}#sk-container-id-2 div.sk-label label {font-family: monospace;font-weight: bold;display: inline-block;line-height: 1.2em;}#sk-container-id-2 div.sk-label-container {text-align: center;}#sk-container-id-2 div.sk-container {/* jupyter's `normalize.less` sets `[hidden] { display: none; }` but bootstrap.min.css set `[hidden] { display: none !important; }` so we also need the `!important` here to be able to override the default hidden behavior on the sphinx rendered scikit-learn.org. See: https://github.com/scikit-learn/scikit-learn/issues/21755 */display: inline-block !important;position: relative;}#sk-container-id-2 div.sk-text-repr-fallback {display: none;}</style><div id=\"sk-container-id-2\" class=\"sk-top-container\"><div class=\"sk-text-repr-fallback\"><pre>MultinomialNB()</pre><b>In a Jupyter environment, please rerun this cell to show the HTML representation or trust the notebook. <br />On GitHub, the HTML representation is unable to render, please try loading this page with nbviewer.org.</b></div><div class=\"sk-container\" hidden><div class=\"sk-item\"><div class=\"sk-estimator sk-toggleable\"><input class=\"sk-toggleable__control sk-hidden--visually\" id=\"sk-estimator-id-2\" type=\"checkbox\" checked><label for=\"sk-estimator-id-2\" class=\"sk-toggleable__label sk-toggleable__label-arrow\">MultinomialNB</label><div class=\"sk-toggleable__content\"><pre>MultinomialNB()</pre></div></div></div></div></div>"
      ],
      "text/plain": [
       "MultinomialNB()"
      ]
     },
     "execution_count": 32,
     "metadata": {},
     "output_type": "execute_result"
    }
   ],
   "source": [
    "model.fit(x_train,y_train)"
   ]
  },
  {
   "cell_type": "code",
   "execution_count": 33,
   "id": "a67034f6",
   "metadata": {},
   "outputs": [],
   "source": [
    "# Predicting on test set\n",
    "y_pred=model.predict(x_test)"
   ]
  },
  {
   "cell_type": "code",
   "execution_count": 34,
   "id": "5a334fab",
   "metadata": {},
   "outputs": [
    {
     "data": {
      "text/plain": [
       "0.8329"
      ]
     },
     "execution_count": 34,
     "metadata": {},
     "output_type": "execute_result"
    }
   ],
   "source": [
    "#Evaluating performance\n",
    "accuracy_score(y_test,y_pred)"
   ]
  },
  {
   "cell_type": "code",
   "execution_count": 35,
   "id": "a69b2d6c",
   "metadata": {},
   "outputs": [
    {
     "data": {
      "text/plain": [
       "'              precision    recall  f1-score   support\\n\\n           0       0.84      0.82      0.83      4961\\n           1       0.83      0.85      0.84      5039\\n\\n    accuracy                           0.83     10000\\n   macro avg       0.83      0.83      0.83     10000\\nweighted avg       0.83      0.83      0.83     10000\\n'"
      ]
     },
     "execution_count": 35,
     "metadata": {},
     "output_type": "execute_result"
    }
   ],
   "source": [
    "classification_report(y_test,y_pred)"
   ]
  },
  {
   "cell_type": "markdown",
   "id": "0f38bae0",
   "metadata": {},
   "source": [
    "***\"I trained data on both Logistic Regression and Multinomial Naive Bayes to classify IMDB movie reviews into positive or negative sentiments. Logistic Regression performed slightly better, achieving 86% accuracy compared to 83% from Naive Bayes. This suggests that logistic regression is able to better capture the relationship between TF-IDF features and sentiment labels.\"***"
   ]
  }
 ],
 "metadata": {
  "kernelspec": {
   "display_name": "Python 3 (ipykernel)",
   "language": "python",
   "name": "python3"
  },
  "language_info": {
   "codemirror_mode": {
    "name": "ipython",
    "version": 3
   },
   "file_extension": ".py",
   "mimetype": "text/x-python",
   "name": "python",
   "nbconvert_exporter": "python",
   "pygments_lexer": "ipython3",
   "version": "3.11.2"
  }
 },
 "nbformat": 4,
 "nbformat_minor": 5
}
